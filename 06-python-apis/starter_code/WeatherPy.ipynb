{
 "cells": [
  {
   "cell_type": "code",
   "execution_count": 30,
   "metadata": {
    "scrolled": true
   },
   "outputs": [],
   "source": [
    "# Dependencies and Setup\n",
    "import matplotlib.pyplot as plt\n",
    "import pandas as pd\n",
    "import numpy as np\n",
    "import requests\n",
    "import time\n",
    "import json\n",
    "\n",
    "# Import API key\n",
    "import api_keys\n",
    "\n",
    "# Incorporated citipy to determine city based on latitude and longitude\n",
    "from citipy import citipy\n",
    "\n",
    "# Output File (CSV)\n",
    "output_data_file = \"output_data/cities.csv\"\n",
    "\n",
    "# Range of latitudes and longitudes\n",
    "lat_range = (-90, 90)\n",
    "lng_range = (-180, 180)"
   ]
  },
  {
   "cell_type": "code",
   "execution_count": null,
   "metadata": {},
   "outputs": [],
   "source": []
  },
  {
   "cell_type": "markdown",
   "metadata": {},
   "source": [
    "## Generate Cities List"
   ]
  },
  {
   "cell_type": "code",
   "execution_count": 31,
   "metadata": {},
   "outputs": [
    {
     "data": {
      "text/plain": [
       "593"
      ]
     },
     "execution_count": 31,
     "metadata": {},
     "output_type": "execute_result"
    }
   ],
   "source": [
    "# List for holding lat_lngs and cities\n",
    "lat_lngs = []\n",
    "cities = []\n",
    "\n",
    "# Create a set of random lat and lng combinations\n",
    "lats = np.random.uniform(low=-90.000, high=90.000, size=1500)\n",
    "lngs = np.random.uniform(low=-180.000, high=180.000, size=1500)\n",
    "lat_lngs = zip(lats, lngs)\n",
    "\n",
    "# Identify nearest city for each lat, lng combination\n",
    "for lat_lng in lat_lngs:\n",
    "    city = citipy.nearest_city(lat_lng[0], lat_lng[1]).city_name\n",
    "    \n",
    "    # If the city is unique, then add it to a our cities list\n",
    "    if city not in cities:\n",
    "        cities.append(city)\n",
    "\n",
    "# Print the city count to confirm sufficient count\n",
    "len(cities)"
   ]
  },
  {
   "cell_type": "code",
   "execution_count": 32,
   "metadata": {},
   "outputs": [
    {
     "data": {
      "text/plain": [
       "'hobart'"
      ]
     },
     "execution_count": 32,
     "metadata": {},
     "output_type": "execute_result"
    }
   ],
   "source": [
    "cities[0]"
   ]
  },
  {
   "cell_type": "markdown",
   "metadata": {},
   "source": [
    "## Perform API Calls"
   ]
  },
  {
   "cell_type": "code",
   "execution_count": 33,
   "metadata": {},
   "outputs": [
    {
     "name": "stdout",
     "output_type": "stream",
     "text": [
      "{'coord': {'lon': 147.33, 'lat': -42.88}, 'weather': [{'id': 801, 'main': 'Clouds', 'description': 'few clouds', 'icon': '02n'}], 'base': 'stations', 'main': {'temp': 64.4, 'pressure': 1009, 'humidity': 59, 'temp_min': 64.4, 'temp_max': 64.4}, 'visibility': 10000, 'wind': {'speed': 8.05, 'deg': 330}, 'clouds': {'all': 20}, 'dt': 1546896600, 'sys': {'type': 1, 'id': 9545, 'message': 0.0061, 'country': 'AU', 'sunrise': 1546800110, 'sunset': 1546854713}, 'id': 2163355, 'name': 'Hobart', 'cod': 200}\n"
     ]
    },
    {
     "data": {
      "text/plain": [
       "'http://api.openweathermap.org/data/2.5/weather?units=Imperial&APPID=701be8995f7ac3325a8d540a535ba4d1'"
      ]
     },
     "execution_count": 33,
     "metadata": {},
     "output_type": "execute_result"
    }
   ],
   "source": [
    "# OpenWeatherMap API Key\n",
    "api_key = api_keys.api_key\n",
    "\n",
    "# Starting URL for Weather Map API Call\n",
    "url = \"http://api.openweathermap.org/data/2.5/weather?units=Imperial&APPID=\" + api_key \n",
    "\n",
    "response = requests.get(url+\"&q=\"+cities[0]).json()\n",
    "\n",
    "print(response)\n",
    "url"
   ]
  },
  {
   "cell_type": "code",
   "execution_count": 34,
   "metadata": {
    "scrolled": true
   },
   "outputs": [
    {
     "data": {
      "text/plain": [
       "{'coord': {'lon': 147.33, 'lat': -42.88},\n",
       " 'weather': [{'id': 801,\n",
       "   'main': 'Clouds',\n",
       "   'description': 'few clouds',\n",
       "   'icon': '02n'}],\n",
       " 'base': 'stations',\n",
       " 'main': {'temp': 64.4,\n",
       "  'pressure': 1009,\n",
       "  'humidity': 59,\n",
       "  'temp_min': 64.4,\n",
       "  'temp_max': 64.4},\n",
       " 'visibility': 10000,\n",
       " 'wind': {'speed': 8.05, 'deg': 330},\n",
       " 'clouds': {'all': 20},\n",
       " 'dt': 1546896600,\n",
       " 'sys': {'type': 1,\n",
       "  'id': 9545,\n",
       "  'message': 0.0061,\n",
       "  'country': 'AU',\n",
       "  'sunrise': 1546800110,\n",
       "  'sunset': 1546854713},\n",
       " 'id': 2163355,\n",
       " 'name': 'Hobart',\n",
       " 'cod': 200}"
      ]
     },
     "execution_count": 34,
     "metadata": {},
     "output_type": "execute_result"
    }
   ],
   "source": [
    "response\n",
    "#print(json.dumps(response, indent=6, sort_keys=True))"
   ]
  },
  {
   "cell_type": "code",
   "execution_count": 35,
   "metadata": {},
   "outputs": [
    {
     "data": {
      "text/plain": [
       "'AU'"
      ]
     },
     "execution_count": 35,
     "metadata": {},
     "output_type": "execute_result"
    }
   ],
   "source": [
    "response[\"sys\"][\"country\"]"
   ]
  },
  {
   "cell_type": "code",
   "execution_count": 36,
   "metadata": {},
   "outputs": [
    {
     "data": {
      "text/plain": [
       "-42.88"
      ]
     },
     "execution_count": 36,
     "metadata": {},
     "output_type": "execute_result"
    }
   ],
   "source": [
    "response[\"coord\"][\"lat\"]"
   ]
  },
  {
   "cell_type": "code",
   "execution_count": 37,
   "metadata": {},
   "outputs": [
    {
     "data": {
      "text/plain": [
       "147.33"
      ]
     },
     "execution_count": 37,
     "metadata": {},
     "output_type": "execute_result"
    }
   ],
   "source": [
    "response[\"coord\"][\"lon\"]"
   ]
  },
  {
   "cell_type": "code",
   "execution_count": 38,
   "metadata": {},
   "outputs": [
    {
     "data": {
      "text/plain": [
       "8.05"
      ]
     },
     "execution_count": 38,
     "metadata": {},
     "output_type": "execute_result"
    }
   ],
   "source": [
    "response[\"wind\"][\"speed\"]"
   ]
  },
  {
   "cell_type": "code",
   "execution_count": 39,
   "metadata": {},
   "outputs": [
    {
     "data": {
      "text/plain": [
       "59"
      ]
     },
     "execution_count": 39,
     "metadata": {},
     "output_type": "execute_result"
    }
   ],
   "source": [
    "response[\"main\"][\"humidity\"]"
   ]
  },
  {
   "cell_type": "code",
   "execution_count": 40,
   "metadata": {},
   "outputs": [
    {
     "data": {
      "text/plain": [
       "64.4"
      ]
     },
     "execution_count": 40,
     "metadata": {},
     "output_type": "execute_result"
    }
   ],
   "source": [
    "response[\"main\"][\"temp_max\"]"
   ]
  },
  {
   "cell_type": "code",
   "execution_count": 41,
   "metadata": {},
   "outputs": [
    {
     "data": {
      "text/plain": [
       "20"
      ]
     },
     "execution_count": 41,
     "metadata": {},
     "output_type": "execute_result"
    }
   ],
   "source": [
    "response[\"clouds\"][\"all\"]"
   ]
  },
  {
   "cell_type": "code",
   "execution_count": 42,
   "metadata": {},
   "outputs": [
    {
     "data": {
      "text/plain": [
       "'Hobart'"
      ]
     },
     "execution_count": 42,
     "metadata": {},
     "output_type": "execute_result"
    }
   ],
   "source": [
    "response[\"name\"]"
   ]
  },
  {
   "cell_type": "code",
   "execution_count": 43,
   "metadata": {
    "scrolled": true
   },
   "outputs": [
    {
     "name": "stdout",
     "output_type": "stream",
     "text": [
      "                                                    fabulous hobart   not found     1\n",
      "                                                    fabulous barentsburg   not found     2\n",
      "                                                    fabulous barawe   not found     3\n",
      "                                                    fabulous sangmelima   not found     4\n",
      "                                                    fabulous abu samrah   not found     5\n",
      "                                                    fabulous tuktoyaktuk   not found     6\n",
      "                                                    fabulous lebu   not found     7\n",
      "                                                    fabulous ambanja   not found     8\n",
      "                                                    fabulous biu   not found     9\n",
      "                                                    fabulous conceicao da barra   not found     10\n",
      "                                                    fabulous aras   not found     11\n",
      "                                                    fabulous gat   not found     12\n",
      "                                                    fabulous port elizabeth   not found     13\n",
      "                                                    fabulous busselton   not found     14\n",
      "                                                    fabulous salta   not found     15\n",
      "                                                    fabulous alta   not found     16\n",
      "                                                    fabulous yulara   not found     17\n",
      "                                                    fabulous rikitea   not found     18\n",
      "                                                    fabulous new norfolk   not found     19\n",
      "                                                    fabulous mataura   not found     20\n",
      "                                                    fabulous palabuhanratu   not found     21\n",
      "                                                    fabulous bengkulu   not found     22\n",
      "                                                    fabulous kodiak   not found     23\n",
      "                                                    fabulous pevek   not found     24\n",
      "                                                    fabulous hermanus   not found     25\n",
      "                                                    fabulous ushuaia   not found     26\n",
      "                                                    fabulous satitoa   not found     27\n",
      "                                                    fabulous kavieng   not found     28\n",
      "                                                    fabulous barrow   not found     29\n",
      "                                                    fabulous sweetwater   not found     30\n",
      "                                                    fabulous robertsport   not found     31\n",
      "                                                    fabulous ribeira grande   not found     32\n",
      "                                                    fabulous portland   not found     33\n",
      "                                                    fabulous butaritari   not found     34\n",
      "                                                    fabulous amderma   not found     35\n",
      "                                                    fabulous houston   not found     36\n",
      "                                                    fabulous port alfred   not found     37\n",
      "                                                    fabulous cabo san lucas   not found     38\n",
      "                                                    fabulous dangriga   not found     39\n",
      "                                                    fabulous san pedro   not found     40\n",
      "                                                    fabulous grand gaube   not found     41\n",
      "                                                    fabulous katsuura   not found     42\n",
      "                                                    fabulous vaini   not found     43\n",
      "                                                    fabulous glens falls   not found     44\n",
      "                                                    fabulous lakhipur   not found     45\n",
      "                                                    fabulous poum   not found     46\n",
      "                                                    fabulous vardo   not found     47\n",
      "                                                    fabulous saskylakh   not found     48\n",
      "                                                    fabulous jurado   not found     49\n",
      "                                                    fabulous saint-philippe   not found     50\n",
      "                                                    fabulous weligama   not found     51\n",
      "                                                    fabulous chokurdakh   not found     52\n",
      "                                                    fabulous tazovskiy   not found     53\n",
      "                                                    fabulous jamestown   not found     54\n",
      "                                                    fabulous severo-kurilsk   not found     55\n",
      "                                                    fabulous klaksvik   not found     56\n",
      "                                                    fabulous yakeshi   not found     57\n",
      "                                                    fabulous chuy   not found     58\n",
      "                                                    fabulous christchurch   not found     59\n",
      "                                                    fabulous cockburn town   not found     60\n",
      "                                                    fabulous belushya guba   not found     61\n",
      "                                                    fabulous lampa   not found     62\n",
      "                                                    fabulous arraial do cabo   not found     63\n",
      "                                                    fabulous airai   not found     64\n",
      "                                                    fabulous toora-khem   not found     65\n",
      "                                                    fabulous mweka   not found     66\n",
      "                                                    fabulous taolanaro   not found     67\n",
      "                                                    fabulous kaitangata   not found     68\n",
      "                                                    fabulous bethel   not found     69\n",
      "                                                    fabulous bom jardim   not found     70\n",
      "                                                    fabulous reserva   not found     71\n",
      "                                                    fabulous kapaa   not found     72\n",
      "                                                    fabulous ngukurr   not found     73\n",
      "                                                    fabulous dikson   not found     74\n",
      "                                                    fabulous goderich   not found     75\n",
      "                                                    fabulous thompson   not found     76\n",
      "                                                    fabulous sorland   not found     77\n",
      "                                                    fabulous saint george   not found     78\n",
      "                                                    fabulous punta arenas   not found     79\n",
      "                                                    fabulous grenville   not found     80\n",
      "                                                    fabulous hilo   not found     81\n",
      "                                                    fabulous san cristobal   not found     82\n",
      "                                                    fabulous qaanaaq   not found     83\n",
      "                                                    fabulous ossora   not found     84\n",
      "                                                    fabulous mar del plata   not found     85\n",
      "                                                    fabulous logan lake   not found     86\n",
      "                                                    fabulous chkalovsk   not found     87\n",
      "                                                    fabulous albany   not found     88\n",
      "                                                    fabulous victoria   not found     89\n",
      "                                                    fabulous pontefract   not found     90\n",
      "                                                    fabulous sinnamary   not found     91\n",
      "                                                    fabulous lisakovsk   not found     92\n"
     ]
    },
    {
     "name": "stdout",
     "output_type": "stream",
     "text": [
      "                                                    fabulous castro   not found     93\n",
      "                                                    fabulous mehamn   not found     94\n",
      "                                                    fabulous upernavik   not found     95\n",
      "                                                    fabulous mount gambier   not found     96\n",
      "                                                    fabulous bluff   not found     97\n",
      "                                                    fabulous saldanha   not found     98\n",
      "                                                    fabulous ullapool   not found     99\n",
      "                                                    fabulous barbar   not found     100\n",
      "                                                    fabulous lander   not found     101\n",
      "                                                    fabulous derzhavinsk   not found     102\n",
      "                                                    fabulous hamilton   not found     103\n",
      "                                                    fabulous barra do garcas   not found     104\n",
      "                                                    fabulous hargeysa   not found     105\n",
      "                                                    fabulous urdzhar   not found     106\n",
      "                                                    fabulous riyadh   not found     107\n",
      "                                                    fabulous atuona   not found     108\n",
      "                                                    fabulous baykit   not found     109\n",
      "                                                    fabulous hofn   not found     110\n",
      "                                                    fabulous lufilufi   not found     111\n",
      "                                                    fabulous taua   not found     112\n",
      "                                                    fabulous georgetown   not found     113\n",
      "                                                    fabulous grand river south east   not found     114\n",
      "                                                    fabulous luanda   not found     115\n",
      "                                                    fabulous ostrovnoy   not found     116\n",
      "                                                    fabulous mys shmidta   not found     117\n",
      "                                                    fabulous marawi   not found     118\n",
      "                                                    fabulous quatre cocos   not found     119\n",
      "                                                    fabulous cidreira   not found     120\n",
      "                                                    fabulous tecoanapa   not found     121\n",
      "                                                    fabulous sao joao da barra   not found     122\n",
      "                                                    fabulous thinadhoo   not found     123\n",
      "                                                    fabulous samusu   not found     124\n",
      "                                                    fabulous fortuna   not found     125\n",
      "                                                    fabulous yellowknife   not found     126\n",
      "                                                    fabulous porto novo   not found     127\n",
      "                                                    fabulous solnechnyy   not found     128\n",
      "                                                    fabulous ngunguru   not found     129\n",
      "                                                    fabulous te anau   not found     130\n",
      "                                                    fabulous port hawkesbury   not found     131\n",
      "                                                    fabulous avarua   not found     132\n",
      "                                                    fabulous khandyga   not found     133\n",
      "                                                    fabulous college   not found     134\n",
      "                                                    fabulous novyy urengoy   not found     135\n",
      "                                                    fabulous lagoa   not found     136\n",
      "                                                    fabulous puerto ayora   not found     137\n",
      "                                                    fabulous flinders   not found     138\n",
      "                                                    fabulous miles city   not found     139\n",
      "                                                    fabulous carnarvon   not found     140\n",
      "                                                    fabulous paita   not found     141\n",
      "                                                    fabulous hirara   not found     142\n",
      "                                                    fabulous vila velha   not found     143\n",
      "                                                    fabulous hambantota   not found     144\n",
      "                                                    fabulous takoradi   not found     145\n",
      "                                                    fabulous makokou   not found     146\n",
      "                                                    fabulous provins   not found     147\n",
      "                                                    fabulous clyde river   not found     148\n",
      "                                                    fabulous kailua   not found     149\n",
      "                                                    fabulous warrnambool   not found     150\n",
      "                                                    fabulous cape town   not found     151\n",
      "                                                    fabulous alotau   not found     152\n",
      "                                                    fabulous prince rupert   not found     153\n",
      "                                                    fabulous mineiros   not found     154\n",
      "                                                    fabulous buritizeiro   not found     155\n",
      "                                                    fabulous illoqqortoormiut   not found     156\n",
      "                                                    fabulous hithadhoo   not found     157\n",
      "                                                    fabulous leningradskiy   not found     158\n",
      "                                                    fabulous araouane   not found     159\n",
      "                                                    fabulous bandarbeyla   not found     160\n",
      "                                                    fabulous lompoc   not found     161\n",
      "                                                    fabulous eersel   not found     162\n",
      "                                                    fabulous zaysan   not found     163\n",
      "                                                    fabulous avera   not found     164\n",
      "                                                    fabulous wattegama   not found     165\n",
      "                                                    fabulous spearfish   not found     166\n",
      "                                                    fabulous esso   not found     167\n",
      "                                                    fabulous baldeogarh   not found     168\n",
      "                                                    fabulous sentyabrskiy   not found     169\n",
      "                                                    fabulous richards bay   not found     170\n",
      "                                                    fabulous amapa   not found     171\n",
      "                                                    fabulous utiroa   not found     172\n",
      "                                                    fabulous tayu   not found     173\n",
      "                                                    fabulous esperance   not found     174\n",
      "                                                    fabulous marsa matruh   not found     175\n",
      "                                                    fabulous santa fe   not found     176\n",
      "                                                    fabulous belawan   not found     177\n",
      "                                                    fabulous kununurra   not found     178\n",
      "                                                    fabulous nikolskoye   not found     179\n",
      "                                                    fabulous havoysund   not found     180\n",
      "                                                    fabulous yaan   not found     181\n",
      "                                                    fabulous yichang   not found     182\n",
      "                                                    fabulous isangel   not found     183\n"
     ]
    },
    {
     "name": "stdout",
     "output_type": "stream",
     "text": [
      "                                                    fabulous rio gallegos   not found     184\n",
      "                                                    fabulous tasiilaq   not found     185\n",
      "                                                    fabulous tumannyy   not found     186\n",
      "                                                    fabulous anloga   not found     187\n",
      "                                                    fabulous ponta do sol   not found     188\n",
      "                                                    fabulous taebla   not found     189\n",
      "                                                    fabulous jiuquan   not found     190\n",
      "                                                    fabulous ojinaga   not found     191\n",
      "                                                    fabulous port hardy   not found     192\n",
      "                                                    fabulous aloleng   not found     193\n",
      "                                                    fabulous bosobolo   not found     194\n",
      "                                                    fabulous tarudant   not found     195\n",
      "                                                    fabulous brae   not found     196\n",
      "                                                    fabulous talnakh   not found     197\n",
      "                                                    fabulous lourdes   not found     198\n",
      "                                                    fabulous stryn   not found     199\n",
      "                                                    fabulous suvorovo   not found     200\n",
      "                                                    fabulous clearlake   not found     201\n",
      "                                                    fabulous konigs wusterhausen   not found     202\n",
      "                                                    fabulous amga   not found     203\n",
      "                                                    fabulous provideniya   not found     204\n",
      "                                                    fabulous khatanga   not found     205\n",
      "                                                    fabulous toliary   not found     206\n",
      "                                                    fabulous salalah   not found     207\n",
      "                                                    fabulous acapulco   not found     208\n",
      "                                                    fabulous korla   not found     209\n",
      "                                                    fabulous praya   not found     210\n",
      "                                                    fabulous nanortalik   not found     211\n",
      "                                                    fabulous aku   not found     212\n",
      "                                                    fabulous zhigansk   not found     213\n",
      "                                                    fabulous baghdad   not found     214\n",
      "                                                    fabulous pemangkat   not found     215\n",
      "                                                    fabulous drovyanaya   not found     216\n",
      "                                                    fabulous road town   not found     217\n",
      "                                                    fabulous bambous virieux   not found     218\n",
      "                                                    fabulous krasnoarmeysk   not found     219\n",
      "                                                    fabulous yining   not found     220\n",
      "                                                    fabulous coos bay   not found     221\n",
      "                                                    fabulous sarkand   not found     222\n",
      "                                                    fabulous fort atkinson   not found     223\n",
      "                                                    fabulous san luis   not found     224\n",
      "                                                    fabulous tuatapere   not found     225\n",
      "                                                    fabulous bitam   not found     226\n",
      "                                                    fabulous coahuayana   not found     227\n",
      "                                                    fabulous bagdarin   not found     228\n",
      "                                                    fabulous dingtao   not found     229\n",
      "                                                    fabulous taksimo   not found     230\n",
      "                                                    fabulous cascais   not found     231\n",
      "                                                    fabulous mukhen   not found     232\n",
      "                                                    fabulous wilmington island   not found     233\n",
      "                                                    fabulous chase   not found     234\n",
      "                                                    fabulous sept-iles   not found     235\n",
      "                                                    fabulous codrington   not found     236\n",
      "                                                    fabulous san quintin   not found     237\n",
      "                                                    fabulous vestmannaeyjar   not found     238\n",
      "                                                    fabulous kiruna   not found     239\n",
      "                                                    fabulous ruatoria   not found     240\n",
      "                                                    fabulous ilulissat   not found     241\n",
      "                                                    fabulous cherskiy   not found     242\n",
      "                                                    fabulous griffith   not found     243\n",
      "                                                    fabulous petropavlovsk-kamchatskiy   not found     244\n",
      "                                                    fabulous waingapu   not found     245\n",
      "                                                    fabulous bredasdorp   not found     246\n",
      "                                                    fabulous sakakah   not found     247\n",
      "                                                    fabulous attawapiskat   not found     248\n",
      "                                                    fabulous sao filipe   not found     249\n",
      "                                                    fabulous mahebourg   not found     250\n",
      "                                                    fabulous hasaki   not found     251\n",
      "                                                    fabulous gravdal   not found     252\n",
      "                                                    fabulous nicoya   not found     253\n",
      "                                                    fabulous liyang   not found     254\n",
      "                                                    fabulous zharkovskiy   not found     255\n",
      "                                                    fabulous tiksi   not found     256\n",
      "                                                    fabulous dzhebariki-khaya   not found     257\n",
      "                                                    fabulous bam   not found     258\n",
      "                                                    fabulous eureka   not found     259\n",
      "                                                    fabulous bonthe   not found     260\n",
      "                                                    fabulous hobyo   not found     261\n",
      "                                                    fabulous jishui   not found     262\n",
      "                                                    fabulous borovoy   not found     263\n",
      "                                                    fabulous antofagasta   not found     264\n",
      "                                                    fabulous geraldton   not found     265\n",
      "                                                    fabulous kamenskoye   not found     266\n",
      "                                                    fabulous bundibugyo   not found     267\n",
      "                                                    fabulous coihaique   not found     268\n",
      "                                                    fabulous asau   not found     269\n",
      "                                                    fabulous vostok   not found     270\n",
      "                                                    fabulous okhotsk   not found     271\n",
      "                                                    fabulous novovarshavka   not found     272\n",
      "                                                    fabulous pallasovka   not found     273\n",
      "                                                    fabulous kashi   not found     274\n"
     ]
    },
    {
     "name": "stdout",
     "output_type": "stream",
     "text": [
      "                                                    fabulous saint-pierre   not found     275\n",
      "                                                    fabulous port lincoln   not found     276\n",
      "                                                    fabulous guerrero negro   not found     277\n",
      "                                                    fabulous cayambe   not found     278\n",
      "                                                    fabulous nguiu   not found     279\n",
      "                                                    fabulous pudozh   not found     280\n",
      "                                                    fabulous nakhon phanom   not found     281\n",
      "                                                    fabulous naryan-mar   not found     282\n",
      "                                                    fabulous norman wells   not found     283\n",
      "                                                    fabulous saleaula   not found     284\n",
      "                                                    fabulous broome   not found     285\n",
      "                                                    fabulous ahipara   not found     286\n",
      "                                                    fabulous ponta delgada   not found     287\n",
      "                                                    fabulous east london   not found     288\n",
      "                                                    fabulous vagamo   not found     289\n",
      "                                                    fabulous novotitarovskaya   not found     290\n",
      "                                                    fabulous margate   not found     291\n",
      "                                                    fabulous towada   not found     292\n",
      "                                                    fabulous mayumba   not found     293\n",
      "                                                    fabulous aklavik   not found     294\n",
      "                                                    fabulous torbay   not found     295\n",
      "                                                    fabulous sibolga   not found     296\n",
      "                                                    fabulous isla vista   not found     297\n",
      "                                                    fabulous iqaluit   not found     298\n",
      "                                                    fabulous burns lake   not found     299\n",
      "                                                    fabulous linxi   not found     300\n",
      "                                                    fabulous gazanjyk   not found     301\n",
      "                                                    fabulous palmi   not found     302\n",
      "                                                    fabulous cayenne   not found     303\n",
      "                                                    fabulous knysna   not found     304\n",
      "                                                    fabulous alamosa   not found     305\n",
      "                                                    fabulous erdenet   not found     306\n",
      "                                                    fabulous saint-augustin   not found     307\n",
      "                                                    fabulous bongaigaon   not found     308\n",
      "                                                    fabulous magadan   not found     309\n",
      "                                                    fabulous filingue   not found     310\n",
      "                                                    fabulous tunduru   not found     311\n",
      "                                                    fabulous stoyba   not found     312\n",
      "                                                    fabulous ballina   not found     313\n",
      "                                                    fabulous nyurba   not found     314\n",
      "                                                    fabulous bur gabo   not found     315\n",
      "                                                    fabulous saint-raymond   not found     316\n",
      "                                                    fabulous beidao   not found     317\n",
      "                                                    fabulous ndele   not found     318\n",
      "                                                    fabulous taburi   not found     319\n",
      "                                                    fabulous komsomolskiy   not found     320\n",
      "                                                    fabulous nizhneyansk   not found     321\n",
      "                                                    fabulous zavetnoye   not found     322\n",
      "                                                    fabulous berezovyy   not found     323\n",
      "                                                    fabulous zaozerne   not found     324\n",
      "                                                    fabulous lasa   not found     325\n",
      "                                                    fabulous bakel   not found     326\n",
      "                                                    fabulous shingu   not found     327\n",
      "                                                    fabulous alofi   not found     328\n",
      "                                                    fabulous teknaf   not found     329\n",
      "                                                    fabulous kamaishi   not found     330\n",
      "                                                    fabulous tsihombe   not found     331\n",
      "                                                    fabulous grand island   not found     332\n",
      "                                                    fabulous soyo   not found     333\n",
      "                                                    fabulous kastamonu   not found     334\n",
      "                                                    fabulous la ronge   not found     335\n",
      "                                                    fabulous longyearbyen   not found     336\n",
      "                                                    fabulous maridi   not found     337\n",
      "                                                    fabulous nelson bay   not found     338\n",
      "                                                    fabulous bargal   not found     339\n",
      "                                                    fabulous pisco   not found     340\n",
      "                                                    fabulous cortez   not found     341\n",
      "                                                    fabulous ribas do rio pardo   not found     342\n",
      "                                                    fabulous faanui   not found     343\n",
      "                                                    fabulous abha   not found     344\n",
      "                                                    fabulous san fernando   not found     345\n",
      "                                                    fabulous bretzfeld   not found     346\n",
      "                                                    fabulous tura   not found     347\n",
      "                                                    fabulous lolua   not found     348\n",
      "                                                    fabulous mookane   not found     349\n",
      "                                                    fabulous sterling   not found     350\n",
      "                                                    fabulous corn island   not found     351\n",
      "                                                    fabulous caravelas   not found     352\n",
      "                                                    fabulous cap-aux-meules   not found     353\n",
      "                                                    fabulous maniitsoq   not found     354\n",
      "                                                    fabulous timizart   not found     355\n",
      "                                                    fabulous artyk   not found     356\n",
      "                                                    fabulous hvolsvollur   not found     357\n",
      "                                                    fabulous kudahuvadhoo   not found     358\n",
      "                                                    fabulous rawson   not found     359\n",
      "                                                    fabulous udine   not found     360\n",
      "                                                    fabulous kerteh   not found     361\n",
      "                                                    fabulous ust-ishim   not found     362\n",
      "                                                    fabulous kahului   not found     363\n",
      "                                                    fabulous cumaribo   not found     364\n",
      "                                                    fabulous arlit   not found     365\n"
     ]
    },
    {
     "name": "stdout",
     "output_type": "stream",
     "text": [
      "                                                    fabulous coquimbo   not found     366\n",
      "                                                    fabulous marrakesh   not found     367\n",
      "                                                    fabulous cap malheureux   not found     368\n",
      "                                                    fabulous todos santos   not found     369\n",
      "                                                    fabulous pacific grove   not found     370\n",
      "                                                    fabulous kruisfontein   not found     371\n",
      "                                                    fabulous carutapera   not found     372\n",
      "                                                    fabulous ulladulla   not found     373\n",
      "                                                    fabulous kinanah   not found     374\n",
      "                                                    fabulous naro moru   not found     375\n",
      "                                                    fabulous yumaguzino   not found     376\n",
      "                                                    fabulous praia   not found     377\n",
      "                                                    fabulous dzaoudzi   not found     378\n",
      "                                                    fabulous plettenberg bay   not found     379\n",
      "                                                    fabulous suhbaatar   not found     380\n",
      "                                                    fabulous bahia de caraquez   not found     381\n",
      "                                                    fabulous sredniy ikorets   not found     382\n",
      "                                                    fabulous virginia beach   not found     383\n",
      "                                                    fabulous shihezi   not found     384\n",
      "                                                    fabulous bara   not found     385\n",
      "                                                    fabulous matao   not found     386\n",
      "                                                    fabulous dubti   not found     387\n",
      "                                                    fabulous fairbanks   not found     388\n",
      "                                                    fabulous laguna   not found     389\n",
      "                                                    fabulous ixtapa   not found     390\n",
      "                                                    fabulous palana   not found     391\n",
      "                                                    fabulous severodvinsk   not found     392\n",
      "                                                    fabulous olafsvik   not found     393\n",
      "                                                    fabulous fuxin   not found     394\n",
      "                                                    fabulous saqqez   not found     395\n",
      "                                                    fabulous yar-sale   not found     396\n",
      "                                                    fabulous chahal   not found     397\n",
      "                                                    fabulous the valley   not found     398\n",
      "                                                    fabulous mareeba   not found     399\n",
      "                                                    fabulous tempio pausania   not found     400\n",
      "                                                    fabulous remanso   not found     401\n",
      "                                                    fabulous zhezkazgan   not found     402\n",
      "                                                    fabulous netarhat   not found     403\n",
      "                                                    fabulous bonaventure   not found     404\n",
      "                                                    fabulous madang   not found     405\n",
      "                                                    fabulous lar gerd   not found     406\n",
      "                                                    fabulous huarmey   not found     407\n",
      "                                                    fabulous emsdetten   not found     408\n",
      "                                                    fabulous ikalamavony   not found     409\n",
      "                                                    fabulous bolungarvik   not found     410\n",
      "                                                    fabulous el alto   not found     411\n",
      "                                                    fabulous imbituba   not found     412\n",
      "                                                    fabulous sarh   not found     413\n",
      "                                                    fabulous crossville   not found     414\n",
      "                                                    fabulous erenhot   not found     415\n",
      "                                                    fabulous rambha   not found     416\n",
      "                                                    fabulous biltine   not found     417\n",
      "                                                    fabulous isoka   not found     418\n",
      "                                                    fabulous san patricio   not found     419\n",
      "                                                    fabulous ancud   not found     420\n",
      "                                                    fabulous hovd   not found     421\n",
      "                                                    fabulous cubuk   not found     422\n",
      "                                                    fabulous visnes   not found     423\n",
      "                                                    fabulous bagan   not found     424\n",
      "                                                    fabulous sunrise manor   not found     425\n",
      "                                                    fabulous lavrentiya   not found     426\n",
      "                                                    fabulous fernie   not found     427\n",
      "                                                    fabulous puerto madryn   not found     428\n",
      "                                                    fabulous uige   not found     429\n",
      "                                                    fabulous mayo   not found     430\n",
      "                                                    fabulous padang   not found     431\n",
      "                                                    fabulous jalu   not found     432\n",
      "                                                    fabulous porbandar   not found     433\n",
      "                                                    fabulous rungata   not found     434\n",
      "                                                    fabulous mollendo   not found     435\n",
      "                                                    fabulous ewa beach   not found     436\n",
      "                                                    fabulous batemans bay   not found     437\n",
      "                                                    fabulous wajima   not found     438\n",
      "                                                    fabulous namibe   not found     439\n",
      "                                                    fabulous matara   not found     440\n",
      "                                                    fabulous winslow   not found     441\n",
      "                                                    fabulous ende   not found     442\n",
      "                                                    fabulous moose jaw   not found     443\n",
      "                                                    fabulous grindavik   not found     444\n",
      "                                                    fabulous port macquarie   not found     445\n",
      "                                                    fabulous jiazi   not found     446\n",
      "                                                    fabulous concordia   not found     447\n",
      "                                                    fabulous midland   not found     448\n",
      "                                                    fabulous auki   not found     449\n",
      "                                                    fabulous narsaq   not found     450\n",
      "                                                    fabulous finnsnes   not found     451\n",
      "                                                    fabulous tyrma   not found     452\n",
      "                                                    fabulous astoria   not found     453\n",
      "                                                    fabulous werda   not found     454\n",
      "                                                    fabulous saint anthony   not found     455\n",
      "                                                    fabulous kamenka   not found     456\n",
      "                                                    fabulous inirida   not found     457\n"
     ]
    },
    {
     "name": "stdout",
     "output_type": "stream",
     "text": [
      "                                                    fabulous constitucion   not found     458\n",
      "                                                    fabulous krasnoselkup   not found     459\n",
      "                                                    fabulous kediri   not found     460\n",
      "                                                    fabulous brahmapuri   not found     461\n",
      "                                                    fabulous morondava   not found     462\n",
      "                                                    fabulous levski   not found     463\n",
      "                                                    fabulous zhaotong   not found     464\n",
      "                                                    fabulous vaitupu   not found     465\n",
      "                                                    fabulous winsum   not found     466\n",
      "                                                    fabulous moose factory   not found     467\n",
      "                                                    fabulous palmer   not found     468\n",
      "                                                    fabulous makanya   not found     469\n",
      "                                                    fabulous grand-santi   not found     470\n",
      "                                                    fabulous hami   not found     471\n",
      "                                                    fabulous lukovetskiy   not found     472\n",
      "                                                    fabulous sola   not found     473\n",
      "                                                    fabulous progreso   not found     474\n",
      "                                                    fabulous seoul   not found     475\n",
      "                                                    fabulous joshimath   not found     476\n",
      "                                                    fabulous acarau   not found     477\n",
      "                                                    fabulous nantucket   not found     478\n",
      "                                                    fabulous port-gentil   not found     479\n",
      "                                                    fabulous envira   not found     480\n",
      "                                                    fabulous socorro   not found     481\n",
      "                                                    fabulous ksenyevka   not found     482\n",
      "                                                    fabulous collie   not found     483\n",
      "                                                    fabulous kosino   not found     484\n",
      "                                                    fabulous husavik   not found     485\n",
      "                                                    fabulous labuhan   not found     486\n",
      "                                                    fabulous norrtalje   not found     487\n",
      "                                                    fabulous taoudenni   not found     488\n",
      "                                                    fabulous yangjiang   not found     489\n",
      "                                                    fabulous lashio   not found     490\n",
      "                                                    fabulous sao jose da coroa grande   not found     491\n",
      "                                                    fabulous gull lake   not found     492\n",
      "                                                    fabulous manta   not found     493\n",
      "                                                    fabulous hailar   not found     494\n",
      "                                                    fabulous mattru   not found     495\n",
      "                                                    fabulous suchilquitongo   not found     496\n",
      "                                                    fabulous hay river   not found     497\n",
      "                                                    fabulous batie   not found     498\n",
      "                                                    fabulous chiang klang   not found     499\n",
      "                                                    fabulous mahon   not found     500\n",
      "                                                    fabulous la plata   not found     501\n",
      "                                                    fabulous gamboma   not found     502\n",
      "                                                    fabulous tiznit   not found     503\n",
      "                                                    fabulous butajira   not found     504\n",
      "                                                    fabulous whitehorse   not found     505\n",
      "                                                    fabulous el tigre   not found     506\n",
      "                                                    fabulous zonguldak   not found     507\n",
      "                                                    fabulous lobva   not found     508\n",
      "                                                    fabulous taman   not found     509\n",
      "                                                    fabulous mampong   not found     510\n",
      "                                                    fabulous belyy   not found     511\n",
      "                                                    fabulous lata   not found     512\n",
      "                                                    fabulous tessalit   not found     513\n",
      "                                                    fabulous north bend   not found     514\n",
      "                                                    fabulous gasa   not found     515\n",
      "                                                    fabulous zhanatas   not found     516\n",
      "                                                    fabulous beringovskiy   not found     517\n",
      "                                                    fabulous odweyne   not found     518\n",
      "                                                    fabulous rocha   not found     519\n",
      "                                                    fabulous el reno   not found     520\n",
      "                                                    fabulous lensk   not found     521\n",
      "                                                    fabulous souillac   not found     522\n",
      "                                                    fabulous mon   not found     523\n",
      "                                                    fabulous muros   not found     524\n",
      "                                                    fabulous camacha   not found     525\n",
      "                                                    fabulous rabo de peixe   not found     526\n",
      "                                                    fabulous togur   not found     527\n",
      "                                                    fabulous liverpool   not found     528\n",
      "                                                    fabulous srednekolymsk   not found     529\n",
      "                                                    fabulous camacupa   not found     530\n",
      "                                                    fabulous mao   not found     531\n",
      "                                                    fabulous stornoway   not found     532\n",
      "                                                    fabulous anadyr   not found     533\n",
      "                                                    fabulous pundaguitan   not found     534\n",
      "                                                    fabulous khorixas   not found     535\n",
      "                                                    fabulous kysyl-syr   not found     536\n",
      "                                                    fabulous monzon   not found     537\n",
      "                                                    fabulous grand centre   not found     538\n",
      "                                                    fabulous khonsa   not found     539\n",
      "                                                    fabulous tommot   not found     540\n",
      "                                                    fabulous opuwo   not found     541\n",
      "                                                    fabulous gumdag   not found     542\n",
      "                                                    fabulous waddan   not found     543\n",
      "                                                    fabulous gwanda   not found     544\n",
      "                                                    fabulous enumclaw   not found     545\n",
      "                                                    fabulous karaul   not found     546\n",
      "                                                    fabulous biak   not found     547\n",
      "                                                    fabulous puerto escondido   not found     548\n",
      "                                                    fabulous paradwip   not found     549\n",
      "                                                    fabulous susuman   not found     550\n"
     ]
    },
    {
     "name": "stdout",
     "output_type": "stream",
     "text": [
      "                                                    fabulous sharjah   not found     551\n",
      "                                                    fabulous wanaka   not found     552\n",
      "                                                    fabulous qafsah   not found     553\n",
      "                                                    fabulous zabaykalsk   not found     554\n",
      "                                                    fabulous moctezuma   not found     555\n",
      "                                                    fabulous kaeo   not found     556\n",
      "                                                    fabulous vila franca do campo   not found     557\n",
      "                                                    fabulous solovetskiy   not found     558\n",
      "                                                    fabulous mangrol   not found     559\n",
      "                                                    fabulous moron   not found     560\n",
      "                                                    fabulous encruzilhada   not found     561\n",
      "                                                    fabulous nishihara   not found     562\n",
      "                                                    fabulous kondratovo   not found     563\n",
      "                                                    fabulous statesville   not found     564\n",
      "                                                    fabulous kalmunai   not found     565\n",
      "                                                    fabulous kyren   not found     566\n",
      "                                                    fabulous bar harbor   not found     567\n",
      "                                                    fabulous mount isa   not found     568\n",
      "                                                    fabulous timmins   not found     569\n",
      "                                                    fabulous bima   not found     570\n",
      "                                                    fabulous bucerias   not found     571\n",
      "                                                    fabulous rundu   not found     572\n",
      "                                                    fabulous miri   not found     573\n",
      "                                                    fabulous panzhihua   not found     574\n",
      "                                                    fabulous kedrovyy   not found     575\n",
      "                                                    fabulous salinas   not found     576\n",
      "                                                    fabulous akhisar   not found     577\n",
      "                                                    fabulous shimoda   not found     578\n",
      "                                                    fabulous antsohihy   not found     579\n",
      "                                                    fabulous aksarka   not found     580\n",
      "                                                    fabulous bud   not found     581\n",
      "                                                    fabulous santa eulalia del rio   not found     582\n",
      "                                                    fabulous beyla   not found     583\n",
      "                                                    fabulous clinton   not found     584\n",
      "                                                    fabulous bairiki   not found     585\n",
      "                                                    fabulous kargil   not found     586\n",
      "                                                    fabulous cartagena   not found     587\n",
      "                                                    fabulous lichinga   not found     588\n",
      "                                                    fabulous kondinskoye   not found     589\n",
      "                                                    fabulous kilwinning   not found     590\n",
      "                                                    fabulous dabola   not found     591\n",
      "                                                    fabulous nalut   not found     592\n",
      "                                                    fabulous cape canaveral   not found     593\n"
     ]
    }
   ],
   "source": [
    "city_name=[]\n",
    "country=[]\n",
    "lat=[]\n",
    "lon=[]\n",
    "humidity=[]\n",
    "temp_max=[]\n",
    "wind_speed=[]\n",
    "clouds=[]\n",
    "\n",
    "count1=0\n",
    "count=0\n",
    "\n",
    "for city in cities:\n",
    "    try:\n",
    "        response = requests.get(url+\"&q=\"+city[0]).json()\n",
    "        city_name.append(response[\"name\"])\n",
    "        country.append(response[\"sys\"][\"country\"])\n",
    "        lat.append(response[\"coord\"][\"lat\"])\n",
    "        lon.append(response[\"coord\"][\"lon\"])\n",
    "        humidity.append(response[\"main\"][\"humidity\"])\n",
    "        temp_max.append(response[\"main\"][\"temp_max\"])\n",
    "        wind_speed.append(response[\"wind\"][\"speed\"])\n",
    "        clouds.append(response[\"clouds\"][\"all\"])\n",
    "        count=count +1\n",
    "        print(f\"Processing Record for  {city} {count}\")\n",
    "\n",
    "    except:\n",
    "        count1=count1+1\n",
    "        print(f\"                                                    fabulous {city}   not found     {count1}\")\n",
    "        pass\n",
    "    \n",
    "    \n",
    "    "
   ]
  },
  {
   "cell_type": "code",
   "execution_count": 15,
   "metadata": {},
   "outputs": [
    {
     "data": {
      "text/html": [
       "<div>\n",
       "<style scoped>\n",
       "    .dataframe tbody tr th:only-of-type {\n",
       "        vertical-align: middle;\n",
       "    }\n",
       "\n",
       "    .dataframe tbody tr th {\n",
       "        vertical-align: top;\n",
       "    }\n",
       "\n",
       "    .dataframe thead th {\n",
       "        text-align: right;\n",
       "    }\n",
       "</style>\n",
       "<table border=\"1\" class=\"dataframe\">\n",
       "  <thead>\n",
       "    <tr style=\"text-align: right;\">\n",
       "      <th></th>\n",
       "      <th>city</th>\n",
       "      <th>country</th>\n",
       "      <th>lat</th>\n",
       "      <th>lon</th>\n",
       "      <th>humidity</th>\n",
       "      <th>temp_max</th>\n",
       "      <th>wind_speed</th>\n",
       "      <th>clouds</th>\n",
       "    </tr>\n",
       "  </thead>\n",
       "  <tbody>\n",
       "  </tbody>\n",
       "</table>\n",
       "</div>"
      ],
      "text/plain": [
       "Empty DataFrame\n",
       "Columns: [city, country, lat, lon, humidity, temp_max, wind_speed, clouds]\n",
       "Index: []"
      ]
     },
     "execution_count": 15,
     "metadata": {},
     "output_type": "execute_result"
    }
   ],
   "source": [
    "df=pd.DataFrame({\"city\": city_name,\n",
    "                 \"country\": country,\n",
    "                 \"lat\": lat,\n",
    "                 \"lon\": lon,\n",
    "                 \"humidity\": humidity,\n",
    "                 \"temp_max\": temp_max,\n",
    "                 \"wind_speed\": wind_speed,\n",
    "                 \"clouds\": clouds})\n",
    "df.head()"
   ]
  },
  {
   "cell_type": "code",
   "execution_count": null,
   "metadata": {},
   "outputs": [],
   "source": []
  },
  {
   "cell_type": "code",
   "execution_count": null,
   "metadata": {},
   "outputs": [],
   "source": []
  }
 ],
 "metadata": {
  "anaconda-cloud": {},
  "kernelspec": {
   "display_name": "Python 3",
   "language": "python",
   "name": "python3"
  },
  "language_info": {
   "codemirror_mode": {
    "name": "ipython",
    "version": 3
   },
   "file_extension": ".py",
   "mimetype": "text/x-python",
   "name": "python",
   "nbconvert_exporter": "python",
   "pygments_lexer": "ipython3",
   "version": "3.7.0"
  }
 },
 "nbformat": 4,
 "nbformat_minor": 1
}
